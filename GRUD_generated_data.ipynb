{
 "cells": [
  {
   "cell_type": "code",
   "execution_count": 1,
   "metadata": {
    "ExecuteTime": {
     "end_time": "2019-08-01T06:21:25.297815Z",
     "start_time": "2019-08-01T06:20:47.195840Z"
    }
   },
   "outputs": [
    {
     "name": "stdout",
     "output_type": "stream",
     "text": [
      "processing the 0 records\n"
     ]
    },
    {
     "ename": "KeyboardInterrupt",
     "evalue": "",
     "output_type": "error",
     "traceback": [
      "\u001b[0;31m---------------------------------------------------------------------------\u001b[0m",
      "\u001b[0;31mKeyboardInterrupt\u001b[0m                         Traceback (most recent call last)",
      "\u001b[0;32m<ipython-input-1-f470d393773c>\u001b[0m in \u001b[0;36m<module>\u001b[0;34m()\u001b[0m\n\u001b[1;32m     21\u001b[0m     \u001b[0;32mif\u001b[0m \u001b[0mi\u001b[0m\u001b[0;34m%\u001b[0m\u001b[0;36m1000\u001b[0m\u001b[0;34m==\u001b[0m\u001b[0;36m0\u001b[0m\u001b[0;34m:\u001b[0m\u001b[0;34m\u001b[0m\u001b[0;34m\u001b[0m\u001b[0m\n\u001b[1;32m     22\u001b[0m         \u001b[0mprint\u001b[0m\u001b[0;34m(\u001b[0m\u001b[0;34m'processing the {} records'\u001b[0m\u001b[0;34m.\u001b[0m\u001b[0mformat\u001b[0m\u001b[0;34m(\u001b[0m\u001b[0mi\u001b[0m\u001b[0;34m)\u001b[0m\u001b[0;34m)\u001b[0m\u001b[0;34m\u001b[0m\u001b[0;34m\u001b[0m\u001b[0m\n\u001b[0;32m---> 23\u001b[0;31m     \u001b[0mdata\u001b[0m\u001b[0;34m=\u001b[0m\u001b[0mdata_raw\u001b[0m\u001b[0;34m[\u001b[0m\u001b[0mdata_raw\u001b[0m\u001b[0;34m.\u001b[0m\u001b[0mid\u001b[0m\u001b[0;34m==\u001b[0m\u001b[0mpatient_id\u001b[0m\u001b[0;34m]\u001b[0m\u001b[0;34m\u001b[0m\u001b[0;34m\u001b[0m\u001b[0m\n\u001b[0m\u001b[1;32m     24\u001b[0m \u001b[0;34m\u001b[0m\u001b[0m\n\u001b[1;32m     25\u001b[0m     \u001b[0mX_last_obsv\u001b[0m\u001b[0;34m[\u001b[0m\u001b[0mi\u001b[0m\u001b[0;34m]\u001b[0m \u001b[0;34m=\u001b[0m \u001b[0mnp\u001b[0m\u001b[0;34m.\u001b[0m\u001b[0marray\u001b[0m\u001b[0;34m(\u001b[0m\u001b[0mdata\u001b[0m\u001b[0;34m.\u001b[0m\u001b[0miloc\u001b[0m\u001b[0;34m[\u001b[0m\u001b[0;34m:\u001b[0m\u001b[0;34m,\u001b[0m\u001b[0;34m:\u001b[0m\u001b[0;34m-\u001b[0m\u001b[0;36m3\u001b[0m\u001b[0;34m]\u001b[0m\u001b[0;34m.\u001b[0m\u001b[0mfillna\u001b[0m\u001b[0;34m(\u001b[0m\u001b[0mmethod\u001b[0m\u001b[0;34m=\u001b[0m\u001b[0;34m'ffill'\u001b[0m\u001b[0;34m)\u001b[0m\u001b[0;34m.\u001b[0m\u001b[0mfillna\u001b[0m\u001b[0;34m(\u001b[0m\u001b[0;36m0\u001b[0m\u001b[0;34m)\u001b[0m\u001b[0;34m)\u001b[0m\u001b[0;34m\u001b[0m\u001b[0;34m\u001b[0m\u001b[0m\n",
      "\u001b[0;32m/data/anaconda3/lib/python3.6/site-packages/pandas/core/ops.py\u001b[0m in \u001b[0;36mwrapper\u001b[0;34m(self, other, axis)\u001b[0m\n\u001b[1;32m   1251\u001b[0m \u001b[0;34m\u001b[0m\u001b[0m\n\u001b[1;32m   1252\u001b[0m             \u001b[0;32mwith\u001b[0m \u001b[0mnp\u001b[0m\u001b[0;34m.\u001b[0m\u001b[0merrstate\u001b[0m\u001b[0;34m(\u001b[0m\u001b[0mall\u001b[0m\u001b[0;34m=\u001b[0m\u001b[0;34m'ignore'\u001b[0m\u001b[0;34m)\u001b[0m\u001b[0;34m:\u001b[0m\u001b[0;34m\u001b[0m\u001b[0;34m\u001b[0m\u001b[0m\n\u001b[0;32m-> 1253\u001b[0;31m                 \u001b[0mres\u001b[0m \u001b[0;34m=\u001b[0m \u001b[0mna_op\u001b[0m\u001b[0;34m(\u001b[0m\u001b[0mvalues\u001b[0m\u001b[0;34m,\u001b[0m \u001b[0mother\u001b[0m\u001b[0;34m)\u001b[0m\u001b[0;34m\u001b[0m\u001b[0;34m\u001b[0m\u001b[0m\n\u001b[0m\u001b[1;32m   1254\u001b[0m             \u001b[0;32mif\u001b[0m \u001b[0mis_scalar\u001b[0m\u001b[0;34m(\u001b[0m\u001b[0mres\u001b[0m\u001b[0;34m)\u001b[0m\u001b[0;34m:\u001b[0m\u001b[0;34m\u001b[0m\u001b[0;34m\u001b[0m\u001b[0m\n\u001b[1;32m   1255\u001b[0m                 raise TypeError('Could not compare {typ} type with Series'\n",
      "\u001b[0;32m/data/anaconda3/lib/python3.6/site-packages/pandas/core/ops.py\u001b[0m in \u001b[0;36mna_op\u001b[0;34m(x, y)\u001b[0m\n\u001b[1;32m   1138\u001b[0m \u001b[0;34m\u001b[0m\u001b[0m\n\u001b[1;32m   1139\u001b[0m         \u001b[0;32melif\u001b[0m \u001b[0mis_object_dtype\u001b[0m\u001b[0;34m(\u001b[0m\u001b[0mx\u001b[0m\u001b[0;34m.\u001b[0m\u001b[0mdtype\u001b[0m\u001b[0;34m)\u001b[0m\u001b[0;34m:\u001b[0m\u001b[0;34m\u001b[0m\u001b[0;34m\u001b[0m\u001b[0m\n\u001b[0;32m-> 1140\u001b[0;31m             \u001b[0mresult\u001b[0m \u001b[0;34m=\u001b[0m \u001b[0m_comp_method_OBJECT_ARRAY\u001b[0m\u001b[0;34m(\u001b[0m\u001b[0mop\u001b[0m\u001b[0;34m,\u001b[0m \u001b[0mx\u001b[0m\u001b[0;34m,\u001b[0m \u001b[0my\u001b[0m\u001b[0;34m)\u001b[0m\u001b[0;34m\u001b[0m\u001b[0;34m\u001b[0m\u001b[0m\n\u001b[0m\u001b[1;32m   1141\u001b[0m \u001b[0;34m\u001b[0m\u001b[0m\n\u001b[1;32m   1142\u001b[0m         \u001b[0;32melif\u001b[0m \u001b[0mis_datetimelike_v_numeric\u001b[0m\u001b[0;34m(\u001b[0m\u001b[0mx\u001b[0m\u001b[0;34m,\u001b[0m \u001b[0my\u001b[0m\u001b[0;34m)\u001b[0m\u001b[0;34m:\u001b[0m\u001b[0;34m\u001b[0m\u001b[0;34m\u001b[0m\u001b[0m\n",
      "\u001b[0;32m/data/anaconda3/lib/python3.6/site-packages/pandas/core/ops.py\u001b[0m in \u001b[0;36m_comp_method_OBJECT_ARRAY\u001b[0;34m(op, x, y)\u001b[0m\n\u001b[1;32m   1117\u001b[0m         \u001b[0mresult\u001b[0m \u001b[0;34m=\u001b[0m \u001b[0mlibops\u001b[0m\u001b[0;34m.\u001b[0m\u001b[0mvec_compare\u001b[0m\u001b[0;34m(\u001b[0m\u001b[0mx\u001b[0m\u001b[0;34m,\u001b[0m \u001b[0my\u001b[0m\u001b[0;34m,\u001b[0m \u001b[0mop\u001b[0m\u001b[0;34m)\u001b[0m\u001b[0;34m\u001b[0m\u001b[0;34m\u001b[0m\u001b[0m\n\u001b[1;32m   1118\u001b[0m     \u001b[0;32melse\u001b[0m\u001b[0;34m:\u001b[0m\u001b[0;34m\u001b[0m\u001b[0;34m\u001b[0m\u001b[0m\n\u001b[0;32m-> 1119\u001b[0;31m         \u001b[0mresult\u001b[0m \u001b[0;34m=\u001b[0m \u001b[0mlibops\u001b[0m\u001b[0;34m.\u001b[0m\u001b[0mscalar_compare\u001b[0m\u001b[0;34m(\u001b[0m\u001b[0mx\u001b[0m\u001b[0;34m,\u001b[0m \u001b[0my\u001b[0m\u001b[0;34m,\u001b[0m \u001b[0mop\u001b[0m\u001b[0;34m)\u001b[0m\u001b[0;34m\u001b[0m\u001b[0;34m\u001b[0m\u001b[0m\n\u001b[0m\u001b[1;32m   1120\u001b[0m     \u001b[0;32mreturn\u001b[0m \u001b[0mresult\u001b[0m\u001b[0;34m\u001b[0m\u001b[0;34m\u001b[0m\u001b[0m\n\u001b[1;32m   1121\u001b[0m \u001b[0;34m\u001b[0m\u001b[0m\n",
      "\u001b[0;31mKeyboardInterrupt\u001b[0m: "
     ]
    }
   ],
   "source": [
    "import sys\n",
    "import numpy as np\n",
    "import pandas as pd\n",
    "import os\n",
    "import warnings\n",
    "\n",
    "warnings.filterwarnings('ignore')\n",
    "\n",
    "data_raw=pd.read_csv('/data/jiawenxiao/physionet0727/train_data.csv')\n",
    "patient_list=data_raw.id.drop_duplicates().tolist()\n",
    "N=len(patient_list)\n",
    "X_t = np.empty([N], dtype=object)        # N * [t*d]\n",
    "X_t_mask = np.empty([N], dtype=object)   # N * [t*d]\n",
    "deltaT_t = np.empty([N], dtype=object)   # N * [t*d]\n",
    "X_last_obsv= np.empty([N], dtype=object)\n",
    "label=np.empty([N], dtype=object)\n",
    "\n",
    "i=-1\n",
    "for patient_id in  patient_list:   \n",
    "    i+=1\n",
    "    if i%1000==0:\n",
    "        print('processing the {} records'.format(i))  \n",
    "    data=data_raw[data_raw.id==patient_id] \n",
    "    \n",
    "    X_last_obsv[i] = np.array(data.iloc[:,:-3].fillna(method='ffill').fillna(0))\n",
    "       \n",
    "    X_t[i] = np.array(data.iloc[:,:-3])\n",
    "    X_t_mask[i] = 1-np.isnan(X_t[i]).astype('int8')\n",
    "    X_t[i][np.isnan(X_t[i])] = 0\n",
    "    deltaT_t[i] = np.zeros_like(X_t[i], dtype=int)\n",
    "    deltaT_t[i][0,:] = 0\n",
    "    for i_t in range(1, len(X_t[i])):\n",
    "        deltaT_t[i][i_t,:] = 1 + (1-X_t_mask[i][i_t,:]) * deltaT_t[i][i_t-1,:]\n",
    "    label[i]=np.array(data.iloc[:,-3]).reshape(-1,1)"
   ]
  },
  {
   "cell_type": "code",
   "execution_count": 5,
   "metadata": {
    "ExecuteTime": {
     "end_time": "2019-07-31T10:37:05.501942Z",
     "start_time": "2019-07-31T10:36:23.223205Z"
    }
   },
   "outputs": [],
   "source": [
    "np.savez('/data/jiawenxiao/physionet0727/train_data.npz',X_t=X_t,X_last_obsv=X_last_obsv,\n",
    "                                                        X_t_mask=X_t_mask,deltaT_t=deltaT_t,label=label)"
   ]
  },
  {
   "cell_type": "code",
   "execution_count": 6,
   "metadata": {
    "ExecuteTime": {
     "end_time": "2019-07-31T10:38:16.218491Z",
     "start_time": "2019-07-31T10:37:08.493512Z"
    }
   },
   "outputs": [
    {
     "name": "stdout",
     "output_type": "stream",
     "text": [
      "processing the 0 person\n",
      "processing the 1000 person\n",
      "processing the 2000 person\n",
      "processing the 3000 person\n",
      "processing the 4000 person\n",
      "processing the 5000 person\n",
      "processing the 6000 person\n",
      "processing the 7000 person\n",
      "processing the 8000 person\n"
     ]
    }
   ],
   "source": [
    "filetype ='.psv'\n",
    "test_path='/data/jiawenxiao/physionet0727/test_data/'\n",
    "\n",
    "def get_filename(path,filetype):\n",
    "    name =[]\n",
    "    final_name = []\n",
    "    for root,dirs,files in os.walk(path):\n",
    "        for i in files:\n",
    "            if filetype in i:\n",
    "                name.append(i.replace(filetype,''))#生成不带‘.csv’后缀的文件名组成的列表\n",
    "    final_name = [item +'.psv' for item in name]#生成‘.csv’后缀的文件名组成的列表\n",
    "    return final_name\n",
    "\n",
    "test_name=get_filename(test_path,filetype)\n",
    "\n",
    "N=len(test_name)\n",
    "X_t = np.empty([N], dtype=object)        # N * [t*d]\n",
    "X_t_mask = np.empty([N], dtype=object)   # N * [t*d]\n",
    "deltaT_t = np.empty([N], dtype=object)   # N * [t*d]\n",
    "X_last_obsv= np.empty([N], dtype=object)\n",
    "label=np.empty([N], dtype=object)\n",
    "\n",
    "\n",
    "i=-1\n",
    "for record_name in  test_name:\n",
    "    i+=1\n",
    "    if i%1000==0:\n",
    "        print('processing the {} person'.format(i))  \n",
    "        \n",
    "    input_file = test_path+record_name    \n",
    "    raw_data= pd.read_csv(input_file,sep='|')  \n",
    "    data=raw_data.iloc[:,1:]\n",
    "    \n",
    "    num_rows = len(data)\n",
    "\n",
    "    X_last_obsv[i] = np.array(data.iloc[:,:-3].fillna(method='ffill').fillna(0))\n",
    "    X_t[i] = np.array(data.iloc[:,:-3])\n",
    "    X_t_mask[i] = 1-np.isnan(X_t[i]).astype('int8')\n",
    "    X_t[i][np.isnan(X_t[i])] = 0\n",
    "    deltaT_t[i] = np.zeros_like(X_t[i], dtype=int)\n",
    "    deltaT_t[i][0,:] = 0\n",
    "    for i_t in range(1, len(X_t[i])):\n",
    "        deltaT_t[i][i_t,:] = 1 + (1-X_t_mask[i][i_t,:]) * deltaT_t[i][i_t-1,:]\n",
    "    label[i]=np.array(data.iloc[:,-3]).reshape(-1,1)\n",
    "      "
   ]
  },
  {
   "cell_type": "code",
   "execution_count": 7,
   "metadata": {
    "ExecuteTime": {
     "end_time": "2019-07-31T10:39:02.048473Z",
     "start_time": "2019-07-31T10:38:53.172243Z"
    }
   },
   "outputs": [],
   "source": [
    "np.savez('/data/jiawenxiao/physionet0727/val_data.npz',X_t=X_t,X_last_obsv=X_last_obsv,\n",
    "                                                                 X_t_mask=X_t_mask,deltaT_t=deltaT_t,label=label)"
   ]
  },
  {
   "cell_type": "code",
   "execution_count": null,
   "metadata": {},
   "outputs": [],
   "source": []
  }
 ],
 "metadata": {
  "kernelspec": {
   "display_name": "Python 3",
   "language": "python",
   "name": "python3"
  },
  "language_info": {
   "codemirror_mode": {
    "name": "ipython",
    "version": 3
   },
   "file_extension": ".py",
   "mimetype": "text/x-python",
   "name": "python",
   "nbconvert_exporter": "python",
   "pygments_lexer": "ipython3",
   "version": "3.6.8"
  }
 },
 "nbformat": 4,
 "nbformat_minor": 2
}
